{
 "cells": [
  {
   "cell_type": "code",
   "execution_count": 1,
   "metadata": {},
   "outputs": [],
   "source": [
    "import warnings\n",
    "warnings.filterwarnings('ignore')\n",
    "import os\n",
    "import sys\n",
    "import time"
   ]
  },
  {
   "cell_type": "code",
   "execution_count": 2,
   "metadata": {},
   "outputs": [],
   "source": [
    "os.environ['TRANSFORMERS_OFFLINE']=\"1\""
   ]
  },
  {
   "cell_type": "code",
   "execution_count": 3,
   "metadata": {},
   "outputs": [],
   "source": [
    "os.environ['TRANSFORMERS_CACHE'] = '/scratch/shareddata/dldata/huggingface-hub-cache/hub'"
   ]
  },
  {
   "cell_type": "code",
   "execution_count": 4,
   "metadata": {},
   "outputs": [],
   "source": [
    "import torch\n",
    "from trl import AutoModelForCausalLMWithValueHead, PPOConfig, PPOTrainer\n",
    "from transformers import AutoTokenizer, AutoModelForCausalLM"
   ]
  },
  {
   "cell_type": "markdown",
   "metadata": {},
   "source": [
    "## Generate responds"
   ]
  },
  {
   "cell_type": "code",
   "execution_count": null,
   "metadata": {},
   "outputs": [],
   "source": [
    "model_name = \"meta-llama/Llama-2-7b-chat-hf\"\n",
    "# model_name = \"gpt2\""
   ]
  },
  {
   "cell_type": "code",
   "execution_count": null,
   "metadata": {},
   "outputs": [],
   "source": [
    "tokenizer = tokenizer = AutoTokenizer.from_pretrained(model_name)\n",
    "tokenizer.pad_token_id = tokenizer.eos_token_id"
   ]
  },
  {
   "cell_type": "code",
   "execution_count": null,
   "metadata": {},
   "outputs": [],
   "source": [
    "model = AutoModelForCausalLMWithValueHead.from_pretrained(model_name,\n",
    "                                                         # load_in_8bit=True,\n",
    "                                                  # torch_dtype=torch.float16,\n",
    "                                                 device_map=\"auto\")\n",
    "# model_ref = AutoModelForCausalLMWithValueHead.from_pretrained(model_name,torch_dtype=torch.float16)"
   ]
  },
  {
   "cell_type": "code",
   "execution_count": null,
   "metadata": {
    "scrolled": true
   },
   "outputs": [],
   "source": [
    "device = model.pretrained_model.device"
   ]
  },
  {
   "cell_type": "code",
   "execution_count": null,
   "metadata": {},
   "outputs": [],
   "source": [
    "# Initialize an empty list to store the sentences\n",
    "prompts_list = []\n",
    "\n",
    "# Open the text file\n",
    "with open('prompts.txt', 'r') as file:\n",
    "    # Read each line in the file\n",
    "    for line in file:\n",
    "        # Add the line (sentence) to the list\n",
    "        prompts_list.append(line.strip())\n",
    "\n",
    "# Now 'sentences' contains all the sentences from the file\n",
    "print( prompts_list[:10])\n",
    "print(len(prompts_list))"
   ]
  },
  {
   "cell_type": "code",
   "execution_count": null,
   "metadata": {},
   "outputs": [],
   "source": [
    "batch_size = 2\n",
    "prompt_batches = [prompts_list[i:i + batch_size] for i in range(0, len(prompts_list), batch_size)]\n",
    "# print(prompt_batches)"
   ]
  },
  {
   "cell_type": "code",
   "execution_count": null,
   "metadata": {},
   "outputs": [],
   "source": [
    "all_responds = []\n",
    "for batch in prompt_batches:\n",
    "\n",
    "    # Tokenize the batch\n",
    "    inputs = tokenizer(batch, padding=True, truncation=True,max_length=30, return_tensors=\"pt\").to(device)\n",
    "\n",
    "    # Generate outputs\n",
    "    outputs = model.generate(**inputs)\n",
    "    \n",
    "    # Decode the outputs\n",
    "    responds = tokenizer.batch_decode(outputs, skip_special_tokens=True)\n",
    "\n",
    "    # Collect all generated texts\n",
    "    all_responds.extend(responds)\n"
   ]
  },
  {
   "cell_type": "code",
   "execution_count": null,
   "metadata": {},
   "outputs": [],
   "source": [
    "len(all_responds)"
   ]
  },
  {
   "cell_type": "code",
   "execution_count": 5,
   "metadata": {},
   "outputs": [],
   "source": [
    "from datasets import Dataset\n",
    "\n",
    "# data_dict = {\n",
    "#     \"prompt\": prompts_list,  # List of all prompts\n",
    "#     \"response\": all_responds  # Corresponding generated texts\n",
    "# }\n",
    "\n",
    "# dataset = Dataset.from_dict(data_dict)\n",
    "# dataset.save_to_disk(\"./completion_llama2_7b_chat\")\n",
    "\n",
    "# For native format\n",
    "loaded_dataset = Dataset.load_from_disk(\"./completion_llama2_7b_chat\")"
   ]
  },
  {
   "cell_type": "markdown",
   "metadata": {},
   "source": [
    "## Get rewards"
   ]
  },
  {
   "cell_type": "code",
   "execution_count": 7,
   "metadata": {},
   "outputs": [],
   "source": [
    "from transformers import pipeline\n",
    "classifier = pipeline(\"zero-shot-classification\",\n",
    "                      model=\"facebook/bart-large-mnli\",\n",
    "                      device=0)"
   ]
  },
  {
   "cell_type": "code",
   "execution_count": 8,
   "metadata": {},
   "outputs": [],
   "source": [
    "sequences_to_classify = loaded_dataset['response']\n",
    "candidate_labels = ['positive', 'negative']\n",
    "results = classifier(sequences_to_classify, candidate_labels)\n"
   ]
  },
  {
   "cell_type": "code",
   "execution_count": 13,
   "metadata": {},
   "outputs": [
    {
     "data": {
      "text/plain": [
       "[{'sequence': 'As the sun dipped below the horizon, she whispered Sheila\\'s name into the darkness.\\n\\nThe wind rustled through the trees, carrying the sound of her voice to the ears of the sleeping girl. She stirred, her eyelids flickering open, and she saw her mother standing over her, her face bathed in the soft, golden light of the setting sun.\\n\\n\"Mother?\" Sheila said, her voice barely above a whisper.\\n\\n\"Shh, my child,\" her mother replied, her voice low and soothing. \"I\\'m here, and I\\'ll always be here for you.\"\\n\\nSheila smiled, feeling a sense of peace wash over her. She knew that her mother would always be there to protect her, to guide her, and to love her. And as the stars began to twinkle in the sky, she drifted off to sleep, surrounded by the warmth and love of her mother\\'s embrace.',\n",
       "  'labels': ['positive', 'negative'],\n",
       "  'scores': [0.8609581589698792, 0.13904178142547607]},\n",
       " {'sequence': 'In the heart of the bustling city, the old clock tower stood tall and proud, a symbol of tradition and heritage. It had been there for as long as anyone could remember, keeping time for the people of the city with its steady tick-tock.\\n\\nBut as the years passed, the clock tower began to show its age. The once-bright paint had faded to a dull gray, and the hands of the clock had become worn and weathered. The city\\'s residents had grown accustomed to the tower\\'s dignified presence, but they couldn\\'t help feeling a sense of unease as the years went by without any noticeable repairs or improvements.\\n\\nOne day, a group of young activists decided to take matters into their own hands. They organized a protest in front of the clock tower, demanding that the city government do something to restore the landmark to its former glory.\\n\\n\"It\\'s time for change!\" they chanted, waving signs and banners. \"We deserve a clock tower we can be proud of!\"\\n\\nThe city officials were caught off guard by the sudden outcry, but they knew they couldn\\'t ignore the public\\'s demands forever. They agreed to allocate funds for a thorough restoration of the clock tower, and work began on the project.\\n\\nAs the workers scaffolded the tower and began the long process of repairing and repainting it, the city\\'s residents watched with a mix of excitement and trepidation. What would the new and improved clock tower look like? Would it still be the same beloved landmark they had grown up with?\\n\\nWhen the restoration was complete, the city gathered to see the results. The clock tower stood tall and proud once again, its fresh coat of paint gleaming in the sunlight. The hands of the clock were now made of shining brass, and the face of the clock was adorned with intricate carvings.\\n\\nThe people of the city cheered and applauded as they gazed upon their renewed landmark. It was as if the clock tower had been reborn, ready to continue keeping time for generations to come.\\n\\nThe young activists who had led the protest were overjoyed at the outcome. They had fought for something they believed in, and their efforts had paid off.\\n\\nAs the sun set on the newly restored clock tower, the city\\'s residents looked on with a sense of pride and gratitude. They knew that their beloved landmark was here to stay, and that it would continue to be a symbol of tradition and heritage for years to come.',\n",
       "  'labels': ['positive', 'negative'],\n",
       "  'scores': [0.9228175282478333, 0.07718249410390854]}]"
      ]
     },
     "execution_count": 13,
     "metadata": {},
     "output_type": "execute_result"
    }
   ],
   "source": [
    "results[:2]"
   ]
  },
  {
   "cell_type": "code",
   "execution_count": 14,
   "metadata": {},
   "outputs": [
    {
     "data": {
      "text/plain": [
       "[0.8609581589698792,\n",
       " 0.9228175282478333,\n",
       " 0.5317795276641846,\n",
       " 0.8464369773864746,\n",
       " 0.8121612668037415,\n",
       " 0.8203597664833069,\n",
       " 0.9301291704177856,\n",
       " 0.8936611413955688,\n",
       " 0.6091729998588562,\n",
       " 0.7915114164352417,\n",
       " 0.8447042107582092,\n",
       " 0.5947414636611938,\n",
       " 0.9344220161437988,\n",
       " 0.7813530564308167,\n",
       " 0.6773236989974976,\n",
       " 0.8200059533119202,\n",
       " 0.5995572209358215,\n",
       " 0.757203221321106,\n",
       " 0.9054793119430542,\n",
       " 0.6570038795471191,\n",
       " 0.6353925466537476,\n",
       " 0.8420090675354004,\n",
       " 0.9306687712669373,\n",
       " 0.581459105014801,\n",
       " 0.5401076674461365,\n",
       " 0.8723202347755432,\n",
       " 0.7645230889320374,\n",
       " 0.8475698828697205,\n",
       " 0.9527148604393005,\n",
       " 0.611027181148529,\n",
       " 0.5725876092910767,\n",
       " 0.9297681450843811,\n",
       " 0.7758680582046509,\n",
       " 0.8660714030265808,\n",
       " 0.7207587361335754,\n",
       " 0.6905563473701477,\n",
       " 0.7340672016143799,\n",
       " 0.7655211687088013,\n",
       " 0.8030493259429932,\n",
       " 0.8590236306190491,\n",
       " 0.6460028290748596,\n",
       " 0.5988184809684753,\n",
       " 0.9237436056137085,\n",
       " 0.696963906288147,\n",
       " 0.853239119052887,\n",
       " 0.9171207547187805,\n",
       " 0.7990365028381348,\n",
       " 0.7769089341163635,\n",
       " 0.9089163541793823,\n",
       " 0.9842426776885986,\n",
       " 0.5340002775192261,\n",
       " 0.7298497557640076,\n",
       " 0.7746548652648926,\n",
       " 0.9463292360305786,\n",
       " 0.5893099904060364,\n",
       " 0.7731501460075378,\n",
       " 0.5048666596412659,\n",
       " 0.6047815680503845,\n",
       " 0.8994972705841064,\n",
       " 0.9715498089790344,\n",
       " 0.5686877369880676,\n",
       " 0.8321856260299683,\n",
       " 0.7315096259117126,\n",
       " 0.6934839487075806,\n",
       " 0.7602928876876831,\n",
       " 0.9353979229927063,\n",
       " 0.7417358756065369,\n",
       " 0.8530653715133667,\n",
       " 0.5964621901512146,\n",
       " 0.7356869578361511,\n",
       " 0.7868961691856384,\n",
       " 0.9083028435707092,\n",
       " 0.8254726529121399,\n",
       " 0.9498590230941772,\n",
       " 0.5205562114715576,\n",
       " 0.5499254465103149,\n",
       " 0.8394209742546082,\n",
       " 0.8914844989776611,\n",
       " 0.9186459183692932,\n",
       " 0.7394985556602478]"
      ]
     },
     "execution_count": 14,
     "metadata": {},
     "output_type": "execute_result"
    }
   ],
   "source": [
    "rewards = [result['scores'][0] for result in results]\n",
    "rewards"
   ]
  },
  {
   "cell_type": "code",
   "execution_count": null,
   "metadata": {},
   "outputs": [],
   "source": []
  },
  {
   "cell_type": "code",
   "execution_count": null,
   "metadata": {},
   "outputs": [],
   "source": []
  }
 ],
 "metadata": {
  "kernelspec": {
   "display_name": "Kernel2",
   "language": "python",
   "name": "kernel2"
  },
  "language_info": {
   "codemirror_mode": {
    "name": "ipython",
    "version": 3
   },
   "file_extension": ".py",
   "mimetype": "text/x-python",
   "name": "python",
   "nbconvert_exporter": "python",
   "pygments_lexer": "ipython3",
   "version": "3.10.13"
  },
  "toc": {
   "base_numbering": 1,
   "nav_menu": {},
   "number_sections": true,
   "sideBar": true,
   "skip_h1_title": false,
   "title_cell": "Table of Contents",
   "title_sidebar": "Contents",
   "toc_cell": false,
   "toc_position": {},
   "toc_section_display": true,
   "toc_window_display": false
  }
 },
 "nbformat": 4,
 "nbformat_minor": 4
}
