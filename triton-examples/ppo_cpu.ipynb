{
 "cells": [
  {
   "cell_type": "markdown",
   "metadata": {},
   "source": [
    "Env of this notebook: jupyter triton with Kernel2"
   ]
  },
  {
   "cell_type": "code",
   "execution_count": 1,
   "metadata": {},
   "outputs": [],
   "source": [
    "import warnings\n",
    "warnings.filterwarnings('ignore')\n",
    "import os\n",
    "import sys\n",
    "import time"
   ]
  },
  {
   "cell_type": "code",
   "execution_count": 2,
   "metadata": {},
   "outputs": [],
   "source": [
    "os.environ['TRANSFORMERS_OFFLINE']=\"1\""
   ]
  },
  {
   "cell_type": "code",
   "execution_count": 3,
   "metadata": {},
   "outputs": [],
   "source": [
    "os.environ['TRANSFORMERS_CACHE'] = '/scratch/shareddata/dldata/huggingface-hub-cache/hub'"
   ]
  },
  {
   "cell_type": "code",
   "execution_count": 4,
   "metadata": {},
   "outputs": [],
   "source": [
    "import torch\n",
    "from trl import AutoModelForCausalLMWithValueHead, PPOConfig, PPOTrainer\n",
    "from transformers import AutoTokenizer, AutoModelForCausalLM"
   ]
  },
  {
   "cell_type": "markdown",
   "metadata": {},
   "source": [
    "## Load the model and initialize the trainer"
   ]
  },
  {
   "cell_type": "code",
   "execution_count": 5,
   "metadata": {},
   "outputs": [],
   "source": [
    "# model_name = \"meta-llama/Llama-2-7b-chat-hf\"\n",
    "model_name = \"gpt2\""
   ]
  },
  {
   "cell_type": "code",
   "execution_count": 6,
   "metadata": {},
   "outputs": [],
   "source": [
    "# Initialize the tokenizer\n",
    "tokenizer = AutoTokenizer.from_pretrained(model_name,padding_side='left', device_map=\"cpu\")\n",
    "tokenizer.pad_token_id = tokenizer.eos_token_id"
   ]
  },
  {
   "cell_type": "code",
   "execution_count": 7,
   "metadata": {},
   "outputs": [],
   "source": [
    "# Load the policy network\n",
    "model = AutoModelForCausalLMWithValueHead.from_pretrained(model_name)\n",
    "\n"
   ]
  },
  {
   "cell_type": "code",
   "execution_count": 8,
   "metadata": {},
   "outputs": [
    {
     "data": {
      "text/plain": [
       "AutoModelForCausalLMWithValueHead(\n",
       "  (pretrained_model): GPT2LMHeadModel(\n",
       "    (transformer): GPT2Model(\n",
       "      (wte): Embedding(50257, 768)\n",
       "      (wpe): Embedding(1024, 768)\n",
       "      (drop): Dropout(p=0.1, inplace=False)\n",
       "      (h): ModuleList(\n",
       "        (0-11): 12 x GPT2Block(\n",
       "          (ln_1): LayerNorm((768,), eps=1e-05, elementwise_affine=True)\n",
       "          (attn): GPT2Attention(\n",
       "            (c_attn): Conv1D()\n",
       "            (c_proj): Conv1D()\n",
       "            (attn_dropout): Dropout(p=0.1, inplace=False)\n",
       "            (resid_dropout): Dropout(p=0.1, inplace=False)\n",
       "          )\n",
       "          (ln_2): LayerNorm((768,), eps=1e-05, elementwise_affine=True)\n",
       "          (mlp): GPT2MLP(\n",
       "            (c_fc): Conv1D()\n",
       "            (c_proj): Conv1D()\n",
       "            (act): NewGELUActivation()\n",
       "            (dropout): Dropout(p=0.1, inplace=False)\n",
       "          )\n",
       "        )\n",
       "      )\n",
       "      (ln_f): LayerNorm((768,), eps=1e-05, elementwise_affine=True)\n",
       "    )\n",
       "    (lm_head): Linear(in_features=768, out_features=50257, bias=False)\n",
       "  )\n",
       "  (v_head): ValueHead(\n",
       "    (dropout): Dropout(p=0.1, inplace=False)\n",
       "    (summary): Linear(in_features=768, out_features=1, bias=True)\n",
       "    (flatten): Flatten(start_dim=1, end_dim=-1)\n",
       "  )\n",
       ")"
      ]
     },
     "execution_count": 8,
     "metadata": {},
     "output_type": "execute_result"
    }
   ],
   "source": [
    "model"
   ]
  },
  {
   "cell_type": "markdown",
   "metadata": {},
   "source": [
    "**Original paper:** https://arxiv.org/pdf/1707.06347.pdf\n",
    "\n",
    "**Diagram:** https://huggingface.co/blog/trl-peft"
   ]
  },
  {
   "cell_type": "markdown",
   "metadata": {},
   "source": [
    "**Value head**:A concepts related to actor-critic methods in reinforcement learning.\n",
    "\n",
    "- Definition: In RL, a value head is a component of a neural network that estimates the value of being in a certain state. This value is typically a prediction of the expected cumulative reward from that state onwards, under a certain policy.\n",
    "\n",
    "- Actor-Critic Methods: Actor-critic methods are a class of algorithms in RL that use two models: an actor, which decides which action to take, and a critic, which evaluates the action. The actor is typically a policy network that outputs a probability distribution over actions, while the critic is a value network that estimates the value of the current state or the value of taking an action in the current state.\n",
    "\n",
    "- Role in Language Models: In the context of large language models, a value head could be used to evaluate the potential \"value\" or usefulness of different continuations of a text sequence. For example, it might estimate the expected quality or relevance of a response given the current conversation context.\n",
    "\n",
    "- Application to Language Models: In large language models, an actor-critic approach could be used to both generate text (actor) and evaluate the quality or appropriateness of the generated text (critic). The critic helps in refining the policy of the actor by providing feedback on its performance.\n",
    "\n",
    "- Training and Feedback Loop: The actor is trained to maximize the expected reward, as predicted by the critic. The critic (value head), in turn, is trained to accurately predict the expected reward minimize the difference between its value predictions and the actual rewards received. This creates a feedback loop where both components improve over time, leading to more effective text generation.\n",
    "\n"
   ]
  },
  {
   "cell_type": "code",
   "execution_count": 9,
   "metadata": {},
   "outputs": [],
   "source": [
    "model_ref = AutoModelForCausalLMWithValueHead.from_pretrained(model_name)"
   ]
  },
  {
   "cell_type": "code",
   "execution_count": 10,
   "metadata": {},
   "outputs": [
    {
     "data": {
      "text/plain": [
       "device(type='cpu')"
      ]
     },
     "execution_count": 10,
     "metadata": {},
     "output_type": "execute_result"
    }
   ],
   "source": [
    "device = model.pretrained_model.device\n",
    "device"
   ]
  },
  {
   "cell_type": "code",
   "execution_count": 11,
   "metadata": {},
   "outputs": [
    {
     "name": "stderr",
     "output_type": "stream",
     "text": [
      "Detected kernel version 3.10.0, which is below the recommended minimum of 5.5.0; this can cause the process to hang. It is recommended to upgrade the kernel to the minimum version or higher.\n"
     ]
    }
   ],
   "source": [
    "# initialize trainer\n",
    "ppo_config = {\"batch_size\": 2}\n",
    "config = PPOConfig(**ppo_config)\n",
    "ppo_trainer = PPOTrainer(config, model, model_ref, tokenizer)\n",
    "# ppo_trainer.accelerator.device\n",
    "# ppo_trainer.current_device"
   ]
  },
  {
   "cell_type": "markdown",
   "metadata": {},
   "source": [
    "## Show generation"
   ]
  },
  {
   "cell_type": "code",
   "execution_count": 12,
   "metadata": {},
   "outputs": [],
   "source": [
    "prompts = ['How do you like my new hair cut?',\n",
    "           'Do you like Taylor Swift?'\n",
    "          ]"
   ]
  },
  {
   "cell_type": "code",
   "execution_count": 14,
   "metadata": {},
   "outputs": [
    {
     "data": {
      "text/plain": [
       "['How do you like my new hair cut?\\n\\nDid you consider starting a wig program now?',\n",
       " 'Do you like Taylor Swift? / For Justin Bieber?\\n\\nJack Swagger/']"
      ]
     },
     "execution_count": 14,
     "metadata": {},
     "output_type": "execute_result"
    }
   ],
   "source": [
    "inputs = tokenizer(prompts, padding=True,\n",
    "                   truncation=True,\n",
    "                   max_length=30, \n",
    "                   return_tensors=\"pt\"\n",
    "                  ).to(device)\n",
    "\n",
    "# Generate outputs\n",
    "generation_kwargs = {\"min_length\": -1, \n",
    "                     \"top_k\": 0.0, \n",
    "                     \"top_p\": 1.0, \n",
    "                     \"do_sample\": True, \n",
    "                     \"pad_token_id\": tokenizer.eos_token_id\n",
    "                    }\n",
    "\n",
    "outputs = model.generate(**inputs, **generation_kwargs)\n",
    "    \n",
    "# Decode the outputs\n",
    "responds = tokenizer.batch_decode(outputs, skip_special_tokens=True)\n",
    "\n",
    "\n",
    "responds"
   ]
  },
  {
   "cell_type": "markdown",
   "metadata": {},
   "source": [
    "## Get rewards"
   ]
  },
  {
   "cell_type": "code",
   "execution_count": 28,
   "metadata": {},
   "outputs": [],
   "source": [
    "# Use a bert model as the reward function\n",
    "from transformers import pipeline\n",
    "\n",
    "classifier = pipeline(\"text-classification\", model=\"finiteautomata/bertweet-base-sentiment-analysis\")"
   ]
  },
  {
   "cell_type": "code",
   "execution_count": 29,
   "metadata": {},
   "outputs": [
    {
     "data": {
      "text/plain": [
       "[{'label': 'NEU', 'score': 0.947227954864502},\n",
       " {'label': 'POS', 'score': 0.6566925048828125}]"
      ]
     },
     "execution_count": 29,
     "metadata": {},
     "output_type": "execute_result"
    }
   ],
   "source": [
    "results = classifier(responds)\n",
    "results"
   ]
  },
  {
   "cell_type": "code",
   "execution_count": 16,
   "metadata": {},
   "outputs": [
    {
     "data": {
      "text/plain": [
       "[-0.7851606607437134, -0.5281864404678345]"
      ]
     },
     "execution_count": 16,
     "metadata": {},
     "output_type": "execute_result"
    }
   ],
   "source": [
    "rewards = []\n",
    "for result in results:\n",
    "    if result['label']=='POS':\n",
    "        reward = result['score']\n",
    "    else: reward = -result['score']\n",
    "    rewards.append(reward)\n",
    "\n",
    "rewards"
   ]
  },
  {
   "cell_type": "markdown",
   "metadata": {},
   "source": [
    "## Prepare training tensors: inputs, outputs and rewards "
   ]
  },
  {
   "cell_type": "code",
   "execution_count": 17,
   "metadata": {},
   "outputs": [],
   "source": [
    "input_tensors = tokenizer(prompts, padding=True, truncation=True,\\\n",
    "                   max_length=30, return_tensors=\"pt\")['input_ids'].to(device)\n",
    "input_tensors = []\n",
    "for prompt in prompts:\n",
    "    input_ = tokenizer(prompt, padding=True, truncation=True,\\\n",
    "                   max_length=30, return_tensors=\"pt\")['input_ids']\n",
    "    input_tensors.append(input_.squeeze())"
   ]
  },
  {
   "cell_type": "code",
   "execution_count": 18,
   "metadata": {},
   "outputs": [
    {
     "data": {
      "text/plain": [
       "[tensor([ 2437,   466,   345,   588,   616,   649,  4190,  2005,    30,  1400,\n",
       "          1917,  3516,    13, 27522,   340,   373,  2495,  7721, 14930,   276]),\n",
       " tensor([ 5211,   345,   588,  8121, 15608,    30,  3914,  2488, 16783, 41909,\n",
       "            65,  2792,   534, 10586,   290,   340,   481, 10648,   416, 14187])]"
      ]
     },
     "execution_count": 18,
     "metadata": {},
     "output_type": "execute_result"
    }
   ],
   "source": [
    "response_tensors = []\n",
    "for input_tensor in input_tensors:\n",
    "    response = ppo_trainer.generate(input_tensor, **generation_kwargs)\n",
    "    response_tensors.append(response.squeeze())\n",
    "response_tensors"
   ]
  },
  {
   "cell_type": "code",
   "execution_count": 19,
   "metadata": {},
   "outputs": [
    {
     "data": {
      "text/plain": [
       "[tensor(-0.7852), tensor(-0.5282)]"
      ]
     },
     "execution_count": 19,
     "metadata": {},
     "output_type": "execute_result"
    }
   ],
   "source": [
    "reward_tensors = []\n",
    "for reward in rewards:\n",
    "    reward_tensors.append(torch.tensor(reward)) \n",
    "reward_tensors"
   ]
  },
  {
   "cell_type": "markdown",
   "metadata": {},
   "source": [
    "## Train model with ppo"
   ]
  },
  {
   "cell_type": "code",
   "execution_count": 22,
   "metadata": {
    "scrolled": true
   },
   "outputs": [],
   "source": [
    "total_epochs = 10\n",
    "policy_losses = []\n",
    "for epoch in range(total_epochs):\n",
    "    train_stats = ppo_trainer.step(input_tensors, response_tensors, reward_tensors)\n",
    "    policy_losses.append(train_stats['ppo/loss/policy']) "
   ]
  },
  {
   "cell_type": "code",
   "execution_count": 23,
   "metadata": {},
   "outputs": [
    {
     "data": {
      "image/png": "[encoded data removed]",
      "text/plain": [
       "<Figure size 1000x600 with 1 Axes>"
      ]
     },
     "metadata": {},
     "output_type": "display_data"
    }
   ],
   "source": [
    "import matplotlib.pyplot as plt\n",
    "\n",
    "## Visualizes the policy loss over time (or iterations).e\n",
    "   \n",
    "plt.figure(figsize=(10, 6))\n",
    "plt.plot(policy_losses, label='Policy Loss')\n",
    "plt.xlabel('Iteration')\n",
    "plt.ylabel('Loss')\n",
    "plt.title('Policy Loss Over Time')\n",
    "plt.legend()\n",
    "plt.grid(True)\n",
    "plt.show()"
   ]
  },
  {
   "cell_type": "code",
   "execution_count": null,
   "metadata": {},
   "outputs": [],
   "source": []
  }
 ],
 "metadata": {
  "kernelspec": {
   "display_name": "Python (module anaconda/2020-03-tf1)",
   "language": "python",
   "name": "python3-tf1"
  },
  "language_info": {
   "codemirror_mode": {
    "name": "ipython",
    "version": 3
   },
   "file_extension": ".py",
   "mimetype": "text/x-python",
   "name": "python",
   "nbconvert_exporter": "python",
   "pygments_lexer": "ipython3",
   "version": "3.7.7"
  },
  "toc": {
   "base_numbering": 1,
   "nav_menu": {},
   "number_sections": true,
   "sideBar": true,
   "skip_h1_title": false,
   "title_cell": "Table of Contents",
   "title_sidebar": "Contents",
   "toc_cell": false,
   "toc_position": {},
   "toc_section_display": true,
   "toc_window_display": false
  }
 },
 "nbformat": 4,
 "nbformat_minor": 4
}
