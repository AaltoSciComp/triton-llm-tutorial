{
 "cells": [
  {
   "cell_type": "markdown",
   "metadata": {},
   "source": [
    "Env of this notebook is conda env myenv/"
   ]
  },
  {
   "cell_type": "code",
   "execution_count": 1,
   "metadata": {},
   "outputs": [
    {
     "name": "stdout",
     "output_type": "stream",
     "text": [
      "Found existing installation: transformers 4.36.2\n",
      "Uninstalling transformers-4.36.2:\n",
      "  Successfully uninstalled transformers-4.36.2\n",
      "Collecting git+https://github.com/huggingface/transformers@cae78c46d\n",
      "  Cloning https://github.com/huggingface/transformers (to revision cae78c46d) to /tmp/pip-req-build-t1uoway7\n",
      "  Running command git clone --quiet https://github.com/huggingface/transformers /tmp/pip-req-build-t1uoway7\n",
      "\u001b[33m  WARNING: Did not find branch or tag 'cae78c46d', assuming revision or ref.\u001b[0m\u001b[33m\n",
      "\u001b[0m  Running command git checkout -q cae78c46d\n",
      "  Resolved https://github.com/huggingface/transformers to commit cae78c46d\n",
      "  Installing build dependencies ... \u001b[?25ldone\n",
      "\u001b[?25h  Getting requirements to build wheel ... \u001b[?25ldone\n",
      "\u001b[?25h  Preparing metadata (pyproject.toml) ... \u001b[?25ldone\n",
      "\u001b[?25hRequirement already satisfied: filelock in /scratch/rse/triton-llm-tutorial/session2/myenv2/lib/python3.10/site-packages (from transformers==4.28.0.dev0) (3.13.1)\n",
      "Requirement already satisfied: huggingface-hub<1.0,>=0.11.0 in /scratch/rse/triton-llm-tutorial/session2/myenv2/lib/python3.10/site-packages (from transformers==4.28.0.dev0) (0.20.2)\n",
      "Requirement already satisfied: numpy>=1.17 in /scratch/rse/triton-llm-tutorial/session2/myenv2/lib/python3.10/site-packages (from transformers==4.28.0.dev0) (1.26.3)\n",
      "Requirement already satisfied: packaging>=20.0 in /scratch/rse/triton-llm-tutorial/session2/myenv2/lib/python3.10/site-packages (from transformers==4.28.0.dev0) (23.2)\n",
      "Requirement already satisfied: pyyaml>=5.1 in /scratch/rse/triton-llm-tutorial/session2/myenv2/lib/python3.10/site-packages (from transformers==4.28.0.dev0) (6.0.1)\n",
      "Requirement already satisfied: regex!=2019.12.17 in /home/tiany4/.local/lib/python3.10/site-packages (from transformers==4.28.0.dev0) (2023.10.3)\n",
      "Requirement already satisfied: requests in /scratch/rse/triton-llm-tutorial/session2/myenv2/lib/python3.10/site-packages (from transformers==4.28.0.dev0) (2.31.0)\n",
      "Collecting tokenizers!=0.11.3,<0.14,>=0.11.1 (from transformers==4.28.0.dev0)\n",
      "  Using cached tokenizers-0.13.3-cp310-cp310-manylinux_2_17_x86_64.manylinux2014_x86_64.whl.metadata (6.7 kB)\n",
      "Requirement already satisfied: tqdm>=4.27 in /home/tiany4/.local/lib/python3.10/site-packages (from transformers==4.28.0.dev0) (4.66.1)\n",
      "Requirement already satisfied: fsspec>=2023.5.0 in /scratch/rse/triton-llm-tutorial/session2/myenv2/lib/python3.10/site-packages (from huggingface-hub<1.0,>=0.11.0->transformers==4.28.0.dev0) (2023.10.0)\n",
      "Requirement already satisfied: typing-extensions>=3.7.4.3 in /home/tiany4/.local/lib/python3.10/site-packages (from huggingface-hub<1.0,>=0.11.0->transformers==4.28.0.dev0) (4.9.0)\n",
      "Requirement already satisfied: charset-normalizer<4,>=2 in /scratch/rse/triton-llm-tutorial/session2/myenv2/lib/python3.10/site-packages (from requests->transformers==4.28.0.dev0) (3.3.2)\n",
      "Requirement already satisfied: idna<4,>=2.5 in /scratch/rse/triton-llm-tutorial/session2/myenv2/lib/python3.10/site-packages (from requests->transformers==4.28.0.dev0) (3.6)\n",
      "Requirement already satisfied: urllib3<3,>=1.21.1 in /scratch/rse/triton-llm-tutorial/session2/myenv2/lib/python3.10/site-packages (from requests->transformers==4.28.0.dev0) (2.1.0)\n",
      "Requirement already satisfied: certifi>=2017.4.17 in /scratch/rse/triton-llm-tutorial/session2/myenv2/lib/python3.10/site-packages (from requests->transformers==4.28.0.dev0) (2023.11.17)\n",
      "Using cached tokenizers-0.13.3-cp310-cp310-manylinux_2_17_x86_64.manylinux2014_x86_64.whl (7.8 MB)\n",
      "Building wheels for collected packages: transformers\n",
      "  Building wheel for transformers (pyproject.toml) ... \u001b[?25ldone\n",
      "\u001b[?25h  Created wheel for transformers: filename=transformers-4.28.0.dev0-py3-none-any.whl size=6827702 sha256=515eeae8f6282af9209358560ba14b761cb909b7ab78e8e4e2b91d0517736ce5\n",
      "  Stored in directory: /tmp/pip-ephem-wheel-cache-elcl_cgr/wheels/24/27/8c/42dec0e705db4bf8c834f75fff0f8e24557e9b56a218328a8f\n",
      "Successfully built transformers\n",
      "Installing collected packages: tokenizers, transformers\n",
      "\u001b[31mERROR: pip's dependency resolver does not currently take into account all the packages that are installed. This behaviour is the source of the following dependency conflicts.\n",
      "sentence-transformers 2.2.2 requires torchvision, which is not installed.\n",
      "trl 0.7.9 requires transformers>=4.31.0, but you have transformers 4.28.0.dev0 which is incompatible.\u001b[0m\u001b[31m\n",
      "\u001b[0mSuccessfully installed tokenizers-0.13.3 transformers-4.28.0.dev0\n"
     ]
    }
   ],
   "source": [
    "!pip uninstall transformers -y\n",
    "!pip install git+https://github.com/huggingface/transformers@cae78c46d"
   ]
  },
  {
   "cell_type": "code",
   "execution_count": 1,
   "metadata": {},
   "outputs": [],
   "source": [
    "import warnings\n",
    "warnings.filterwarnings('ignore')\n",
    "\n",
    "import os\n",
    "import sys\n",
    "import time"
   ]
  },
  {
   "cell_type": "code",
   "execution_count": 2,
   "metadata": {},
   "outputs": [],
   "source": [
    "# # set env variables, NOTE: this cell must be run first\n",
    "os.environ['TRANSFORMERS_OFFLINE']=\"1\"\n",
    "\n",
    "os.environ['TRANSFORMERS_CACHE'] = '/scratch/shareddata/dldata/huggingface-hub-cache/hub'"
   ]
  },
  {
   "cell_type": "code",
   "execution_count": 3,
   "metadata": {},
   "outputs": [],
   "source": [
    "import torch\n",
    "# from trl import AutoModelForCausalLMWithValueHead, PPOConfig, PPOTrainer,AutoModelForSeq2SeqLMWithValueHead\n",
    "from transformers import AutoTokenizer, AutoModelForCausalLM\n",
    "# ,BitsAndBytesConfig,AutoModelForSeq2SeqLM\n",
    "# from peft import AutoPeftModelForCausalLM\n",
    "# from peft import PeftModel, PeftConfig, LoraConfig, TaskType\n",
    "\n"
   ]
  },
  {
   "cell_type": "markdown",
   "metadata": {},
   "source": [
    "## Load the model "
   ]
  },
  {
   "cell_type": "code",
   "execution_count": 4,
   "metadata": {},
   "outputs": [],
   "source": [
    "model_name = \"meta-llama/Llama-2-13b-hf\"\n",
    "# model_name = \"gpt2\""
   ]
  },
  {
   "cell_type": "markdown",
   "metadata": {},
   "source": [
    "**Original Lora paper:** https://arxiv.org/pdf/2106.09685.pdf"
   ]
  },
  {
   "cell_type": "code",
   "execution_count": 5,
   "metadata": {},
   "outputs": [
    {
     "name": "stderr",
     "output_type": "stream",
     "text": [
      "Downloading shards: 100%|██████████████████████████████████████| 3/3 [00:00<00:00, 631.23it/s]\n",
      "Loading checkpoint shards: 100%|████████████████████████████████| 3/3 [03:56<00:00, 78.91s/it]\n"
     ]
    }
   ],
   "source": [
    "\n",
    "model = AutoModelForCausalLM.from_pretrained(\n",
    "    model_name,\n",
    "    device_map=\"auto\"\n",
    ")"
   ]
  },
  {
   "cell_type": "code",
   "execution_count": 13,
   "metadata": {},
   "outputs": [
    {
     "data": {
      "text/plain": [
       "device(type='cuda', index=0)"
      ]
     },
     "execution_count": 13,
     "metadata": {},
     "output_type": "execute_result"
    }
   ],
   "source": [
    "device = model.device\n",
    "device"
   ]
  },
  {
   "cell_type": "code",
   "execution_count": 6,
   "metadata": {},
   "outputs": [
    {
     "name": "stdout",
     "output_type": "stream",
     "text": [
      "Layer: model.embed_tokens, Parameter: weight, Type: torch.float32, Device: cuda:0\n",
      "Layer: model.layers.0.self_attn.q_proj, Parameter: weight, Type: torch.float32, Device: cuda:0\n",
      "Layer: model.layers.0.self_attn.k_proj, Parameter: weight, Type: torch.float32, Device: cuda:0\n",
      "Layer: model.layers.0.self_attn.v_proj, Parameter: weight, Type: torch.float32, Device: cuda:0\n",
      "Layer: model.layers.0.self_attn.o_proj, Parameter: weight, Type: torch.float32, Device: cuda:0\n",
      "Layer: model.layers.0.mlp.gate_proj, Parameter: weight, Type: torch.float32, Device: cuda:0\n",
      "Layer: model.layers.0.mlp.up_proj, Parameter: weight, Type: torch.float32, Device: cuda:0\n",
      "Layer: model.layers.0.mlp.down_proj, Parameter: weight, Type: torch.float32, Device: cuda:0\n",
      "Layer: model.layers.0.input_layernorm, Parameter: weight, Type: torch.float32, Device: cuda:0\n",
      "Layer: model.layers.0.post_attention_layernorm, Parameter: weight, Type: torch.float32, Device: cuda:0\n",
      "Layer: model.layers.1.self_attn.q_proj, Parameter: weight, Type: torch.float32, Device: cuda:0\n",
      "Layer: model.layers.1.self_attn.k_proj, Parameter: weight, Type: torch.float32, Device: cuda:0\n",
      "Layer: model.layers.1.self_attn.v_proj, Parameter: weight, Type: torch.float32, Device: cuda:0\n",
      "Layer: model.layers.1.self_attn.o_proj, Parameter: weight, Type: torch.float32, Device: cuda:0\n",
      "Layer: model.layers.1.mlp.gate_proj, Parameter: weight, Type: torch.float32, Device: cuda:0\n",
      "Layer: model.layers.1.mlp.up_proj, Parameter: weight, Type: torch.float32, Device: cuda:0\n",
      "Layer: model.layers.1.mlp.down_proj, Parameter: weight, Type: torch.float32, Device: cuda:0\n",
      "Layer: model.layers.1.input_layernorm, Parameter: weight, Type: torch.float32, Device: cuda:0\n",
      "Layer: model.layers.1.post_attention_layernorm, Parameter: weight, Type: torch.float32, Device: cuda:0\n",
      "Layer: model.layers.2.self_attn.q_proj, Parameter: weight, Type: torch.float32, Device: cuda:0\n",
      "Layer: model.layers.2.self_attn.k_proj, Parameter: weight, Type: torch.float32, Device: cuda:0\n",
      "Layer: model.layers.2.self_attn.v_proj, Parameter: weight, Type: torch.float32, Device: cuda:0\n",
      "Layer: model.layers.2.self_attn.o_proj, Parameter: weight, Type: torch.float32, Device: cuda:0\n",
      "Layer: model.layers.2.mlp.gate_proj, Parameter: weight, Type: torch.float32, Device: cuda:0\n",
      "Layer: model.layers.2.mlp.up_proj, Parameter: weight, Type: torch.float32, Device: cuda:0\n",
      "Layer: model.layers.2.mlp.down_proj, Parameter: weight, Type: torch.float32, Device: cuda:0\n",
      "Layer: model.layers.2.input_layernorm, Parameter: weight, Type: torch.float32, Device: cuda:0\n",
      "Layer: model.layers.2.post_attention_layernorm, Parameter: weight, Type: torch.float32, Device: cuda:0\n",
      "Layer: model.layers.3.self_attn.q_proj, Parameter: weight, Type: torch.float32, Device: cuda:0\n",
      "Layer: model.layers.3.self_attn.k_proj, Parameter: weight, Type: torch.float32, Device: cuda:0\n",
      "Layer: model.layers.3.self_attn.v_proj, Parameter: weight, Type: torch.float32, Device: cuda:0\n",
      "Layer: model.layers.3.self_attn.o_proj, Parameter: weight, Type: torch.float32, Device: cuda:0\n",
      "Layer: model.layers.3.mlp.gate_proj, Parameter: weight, Type: torch.float32, Device: cuda:0\n",
      "Layer: model.layers.3.mlp.up_proj, Parameter: weight, Type: torch.float32, Device: cuda:0\n",
      "Layer: model.layers.3.mlp.down_proj, Parameter: weight, Type: torch.float32, Device: cuda:0\n",
      "Layer: model.layers.3.input_layernorm, Parameter: weight, Type: torch.float32, Device: cuda:0\n",
      "Layer: model.layers.3.post_attention_layernorm, Parameter: weight, Type: torch.float32, Device: cuda:0\n",
      "Layer: model.layers.4.self_attn.q_proj, Parameter: weight, Type: torch.float32, Device: cuda:0\n",
      "Layer: model.layers.4.self_attn.k_proj, Parameter: weight, Type: torch.float32, Device: cuda:0\n",
      "Layer: model.layers.4.self_attn.v_proj, Parameter: weight, Type: torch.float32, Device: cuda:0\n",
      "Layer: model.layers.4.self_attn.o_proj, Parameter: weight, Type: torch.float32, Device: cuda:0\n",
      "Layer: model.layers.4.mlp.gate_proj, Parameter: weight, Type: torch.float32, Device: cuda:0\n",
      "Layer: model.layers.4.mlp.up_proj, Parameter: weight, Type: torch.float32, Device: cuda:0\n",
      "Layer: model.layers.4.mlp.down_proj, Parameter: weight, Type: torch.float32, Device: cuda:0\n",
      "Layer: model.layers.4.input_layernorm, Parameter: weight, Type: torch.float32, Device: cuda:0\n",
      "Layer: model.layers.4.post_attention_layernorm, Parameter: weight, Type: torch.float32, Device: cuda:0\n",
      "Layer: model.layers.5.self_attn.q_proj, Parameter: weight, Type: torch.float32, Device: cuda:0\n",
      "Layer: model.layers.5.self_attn.k_proj, Parameter: weight, Type: torch.float32, Device: cuda:0\n",
      "Layer: model.layers.5.self_attn.v_proj, Parameter: weight, Type: torch.float32, Device: cuda:0\n",
      "Layer: model.layers.5.self_attn.o_proj, Parameter: weight, Type: torch.float32, Device: cuda:0\n",
      "Layer: model.layers.5.mlp.gate_proj, Parameter: weight, Type: torch.float32, Device: cuda:0\n",
      "Layer: model.layers.5.mlp.up_proj, Parameter: weight, Type: torch.float32, Device: cuda:0\n",
      "Layer: model.layers.5.mlp.down_proj, Parameter: weight, Type: torch.float32, Device: cuda:0\n",
      "Layer: model.layers.5.input_layernorm, Parameter: weight, Type: torch.float32, Device: cuda:0\n",
      "Layer: model.layers.5.post_attention_layernorm, Parameter: weight, Type: torch.float32, Device: cuda:0\n",
      "Layer: model.layers.6.self_attn.q_proj, Parameter: weight, Type: torch.float32, Device: cuda:0\n",
      "Layer: model.layers.6.self_attn.k_proj, Parameter: weight, Type: torch.float32, Device: cuda:0\n",
      "Layer: model.layers.6.self_attn.v_proj, Parameter: weight, Type: torch.float32, Device: cuda:0\n",
      "Layer: model.layers.6.self_attn.o_proj, Parameter: weight, Type: torch.float32, Device: cuda:0\n",
      "Layer: model.layers.6.mlp.gate_proj, Parameter: weight, Type: torch.float32, Device: cuda:0\n",
      "Layer: model.layers.6.mlp.up_proj, Parameter: weight, Type: torch.float32, Device: cuda:0\n",
      "Layer: model.layers.6.mlp.down_proj, Parameter: weight, Type: torch.float32, Device: cuda:0\n",
      "Layer: model.layers.6.input_layernorm, Parameter: weight, Type: torch.float32, Device: cuda:0\n",
      "Layer: model.layers.6.post_attention_layernorm, Parameter: weight, Type: torch.float32, Device: cuda:0\n",
      "Layer: model.layers.7.self_attn.q_proj, Parameter: weight, Type: torch.float32, Device: cuda:0\n",
      "Layer: model.layers.7.self_attn.k_proj, Parameter: weight, Type: torch.float32, Device: cuda:0\n",
      "Layer: model.layers.7.self_attn.v_proj, Parameter: weight, Type: torch.float32, Device: cuda:0\n",
      "Layer: model.layers.7.self_attn.o_proj, Parameter: weight, Type: torch.float32, Device: cuda:0\n",
      "Layer: model.layers.7.mlp.gate_proj, Parameter: weight, Type: torch.float32, Device: cuda:0\n",
      "Layer: model.layers.7.mlp.up_proj, Parameter: weight, Type: torch.float32, Device: cuda:0\n",
      "Layer: model.layers.7.mlp.down_proj, Parameter: weight, Type: torch.float32, Device: cuda:0\n",
      "Layer: model.layers.7.input_layernorm, Parameter: weight, Type: torch.float32, Device: cuda:0\n",
      "Layer: model.layers.7.post_attention_layernorm, Parameter: weight, Type: torch.float32, Device: cuda:0\n",
      "Layer: model.layers.8.self_attn.q_proj, Parameter: weight, Type: torch.float32, Device: cuda:0\n",
      "Layer: model.layers.8.self_attn.k_proj, Parameter: weight, Type: torch.float32, Device: cuda:0\n",
      "Layer: model.layers.8.self_attn.v_proj, Parameter: weight, Type: torch.float32, Device: cuda:0\n",
      "Layer: model.layers.8.self_attn.o_proj, Parameter: weight, Type: torch.float32, Device: cuda:0\n",
      "Layer: model.layers.8.mlp.gate_proj, Parameter: weight, Type: torch.float32, Device: cuda:0\n",
      "Layer: model.layers.8.mlp.up_proj, Parameter: weight, Type: torch.float32, Device: cuda:0\n",
      "Layer: model.layers.8.mlp.down_proj, Parameter: weight, Type: torch.float32, Device: cuda:0\n",
      "Layer: model.layers.8.input_layernorm, Parameter: weight, Type: torch.float32, Device: cuda:0\n",
      "Layer: model.layers.8.post_attention_layernorm, Parameter: weight, Type: torch.float32, Device: cuda:0\n",
      "Layer: model.layers.9.self_attn.q_proj, Parameter: weight, Type: torch.float32, Device: cuda:0\n",
      "Layer: model.layers.9.self_attn.k_proj, Parameter: weight, Type: torch.float32, Device: cuda:0\n",
      "Layer: model.layers.9.self_attn.v_proj, Parameter: weight, Type: torch.float32, Device: cuda:0\n",
      "Layer: model.layers.9.self_attn.o_proj, Parameter: weight, Type: torch.float32, Device: cuda:0\n",
      "Layer: model.layers.9.mlp.gate_proj, Parameter: weight, Type: torch.float32, Device: cuda:0\n",
      "Layer: model.layers.9.mlp.up_proj, Parameter: weight, Type: torch.float32, Device: cuda:0\n",
      "Layer: model.layers.9.mlp.down_proj, Parameter: weight, Type: torch.float32, Device: cuda:0\n",
      "Layer: model.layers.9.input_layernorm, Parameter: weight, Type: torch.float32, Device: cuda:0\n",
      "Layer: model.layers.9.post_attention_layernorm, Parameter: weight, Type: torch.float32, Device: cuda:0\n",
      "Layer: model.layers.10.self_attn.q_proj, Parameter: weight, Type: torch.float32, Device: cuda:0\n",
      "Layer: model.layers.10.self_attn.k_proj, Parameter: weight, Type: torch.float32, Device: cuda:0\n",
      "Layer: model.layers.10.self_attn.v_proj, Parameter: weight, Type: torch.float32, Device: cuda:0\n",
      "Layer: model.layers.10.self_attn.o_proj, Parameter: weight, Type: torch.float32, Device: cuda:0\n",
      "Layer: model.layers.10.mlp.gate_proj, Parameter: weight, Type: torch.float32, Device: cuda:0\n",
      "Layer: model.layers.10.mlp.up_proj, Parameter: weight, Type: torch.float32, Device: cuda:0\n",
      "Layer: model.layers.10.mlp.down_proj, Parameter: weight, Type: torch.float32, Device: cuda:0\n",
      "Layer: model.layers.10.input_layernorm, Parameter: weight, Type: torch.float32, Device: cuda:0\n",
      "Layer: model.layers.10.post_attention_layernorm, Parameter: weight, Type: torch.float32, Device: cuda:0\n",
      "Layer: model.layers.11.self_attn.q_proj, Parameter: weight, Type: torch.float32, Device: cuda:0\n",
      "Layer: model.layers.11.self_attn.k_proj, Parameter: weight, Type: torch.float32, Device: cuda:0\n",
      "Layer: model.layers.11.self_attn.v_proj, Parameter: weight, Type: torch.float32, Device: cuda:0\n",
      "Layer: model.layers.11.self_attn.o_proj, Parameter: weight, Type: torch.float32, Device: cuda:0\n",
      "Layer: model.layers.11.mlp.gate_proj, Parameter: weight, Type: torch.float32, Device: cuda:0\n",
      "Layer: model.layers.11.mlp.up_proj, Parameter: weight, Type: torch.float32, Device: cuda:0\n",
      "Layer: model.layers.11.mlp.down_proj, Parameter: weight, Type: torch.float32, Device: cuda:0\n",
      "Layer: model.layers.11.input_layernorm, Parameter: weight, Type: torch.float32, Device: cuda:0\n",
      "Layer: model.layers.11.post_attention_layernorm, Parameter: weight, Type: torch.float32, Device: cuda:0\n",
      "Layer: model.layers.12.self_attn.q_proj, Parameter: weight, Type: torch.float32, Device: cuda:0\n",
      "Layer: model.layers.12.self_attn.k_proj, Parameter: weight, Type: torch.float32, Device: cuda:0\n",
      "Layer: model.layers.12.self_attn.v_proj, Parameter: weight, Type: torch.float32, Device: cuda:0\n",
      "Layer: model.layers.12.self_attn.o_proj, Parameter: weight, Type: torch.float32, Device: cuda:0\n",
      "Layer: model.layers.12.mlp.gate_proj, Parameter: weight, Type: torch.float32, Device: cuda:0\n",
      "Layer: model.layers.12.mlp.up_proj, Parameter: weight, Type: torch.float32, Device: cuda:0\n",
      "Layer: model.layers.12.mlp.down_proj, Parameter: weight, Type: torch.float32, Device: cuda:0\n",
      "Layer: model.layers.12.input_layernorm, Parameter: weight, Type: torch.float32, Device: cuda:0\n",
      "Layer: model.layers.12.post_attention_layernorm, Parameter: weight, Type: torch.float32, Device: cuda:0\n",
      "Layer: model.layers.13.self_attn.q_proj, Parameter: weight, Type: torch.float32, Device: cuda:0\n",
      "Layer: model.layers.13.self_attn.k_proj, Parameter: weight, Type: torch.float32, Device: cuda:0\n",
      "Layer: model.layers.13.self_attn.v_proj, Parameter: weight, Type: torch.float32, Device: cuda:0\n",
      "Layer: model.layers.13.self_attn.o_proj, Parameter: weight, Type: torch.float32, Device: cuda:0\n",
      "Layer: model.layers.13.mlp.gate_proj, Parameter: weight, Type: torch.float32, Device: cuda:0\n",
      "Layer: model.layers.13.mlp.up_proj, Parameter: weight, Type: torch.float32, Device: cuda:0\n",
      "Layer: model.layers.13.mlp.down_proj, Parameter: weight, Type: torch.float32, Device: cuda:0\n",
      "Layer: model.layers.13.input_layernorm, Parameter: weight, Type: torch.float32, Device: cuda:0\n",
      "Layer: model.layers.13.post_attention_layernorm, Parameter: weight, Type: torch.float32, Device: cuda:0\n",
      "Layer: model.layers.14.self_attn.q_proj, Parameter: weight, Type: torch.float32, Device: cuda:0\n",
      "Layer: model.layers.14.self_attn.k_proj, Parameter: weight, Type: torch.float32, Device: cuda:0\n",
      "Layer: model.layers.14.self_attn.v_proj, Parameter: weight, Type: torch.float32, Device: cuda:0\n",
      "Layer: model.layers.14.self_attn.o_proj, Parameter: weight, Type: torch.float32, Device: cuda:0\n",
      "Layer: model.layers.14.mlp.gate_proj, Parameter: weight, Type: torch.float32, Device: cuda:0\n",
      "Layer: model.layers.14.mlp.up_proj, Parameter: weight, Type: torch.float32, Device: cuda:0\n",
      "Layer: model.layers.14.mlp.down_proj, Parameter: weight, Type: torch.float32, Device: cuda:0\n",
      "Layer: model.layers.14.input_layernorm, Parameter: weight, Type: torch.float32, Device: cuda:0\n",
      "Layer: model.layers.14.post_attention_layernorm, Parameter: weight, Type: torch.float32, Device: cuda:0\n",
      "Layer: model.layers.15.self_attn.q_proj, Parameter: weight, Type: torch.float32, Device: cuda:0\n",
      "Layer: model.layers.15.self_attn.k_proj, Parameter: weight, Type: torch.float32, Device: cuda:0\n",
      "Layer: model.layers.15.self_attn.v_proj, Parameter: weight, Type: torch.float32, Device: cuda:0\n",
      "Layer: model.layers.15.self_attn.o_proj, Parameter: weight, Type: torch.float32, Device: cuda:0\n",
      "Layer: model.layers.15.mlp.gate_proj, Parameter: weight, Type: torch.float32, Device: cuda:0\n",
      "Layer: model.layers.15.mlp.up_proj, Parameter: weight, Type: torch.float32, Device: cuda:0\n",
      "Layer: model.layers.15.mlp.down_proj, Parameter: weight, Type: torch.float32, Device: cuda:0\n",
      "Layer: model.layers.15.input_layernorm, Parameter: weight, Type: torch.float32, Device: cuda:0\n",
      "Layer: model.layers.15.post_attention_layernorm, Parameter: weight, Type: torch.float32, Device: cuda:0\n",
      "Layer: model.layers.16.self_attn.q_proj, Parameter: weight, Type: torch.float32, Device: cuda:0\n",
      "Layer: model.layers.16.self_attn.k_proj, Parameter: weight, Type: torch.float32, Device: cuda:0\n",
      "Layer: model.layers.16.self_attn.v_proj, Parameter: weight, Type: torch.float32, Device: cuda:0\n",
      "Layer: model.layers.16.self_attn.o_proj, Parameter: weight, Type: torch.float32, Device: cuda:0\n",
      "Layer: model.layers.16.mlp.gate_proj, Parameter: weight, Type: torch.float32, Device: cuda:0\n",
      "Layer: model.layers.16.mlp.up_proj, Parameter: weight, Type: torch.float32, Device: cuda:0\n",
      "Layer: model.layers.16.mlp.down_proj, Parameter: weight, Type: torch.float32, Device: cuda:0\n",
      "Layer: model.layers.16.input_layernorm, Parameter: weight, Type: torch.float32, Device: cuda:0\n",
      "Layer: model.layers.16.post_attention_layernorm, Parameter: weight, Type: torch.float32, Device: cuda:0\n",
      "Layer: model.layers.17.self_attn.q_proj, Parameter: weight, Type: torch.float32, Device: cuda:0\n",
      "Layer: model.layers.17.self_attn.k_proj, Parameter: weight, Type: torch.float32, Device: cuda:0\n",
      "Layer: model.layers.17.self_attn.v_proj, Parameter: weight, Type: torch.float32, Device: cuda:0\n",
      "Layer: model.layers.17.self_attn.o_proj, Parameter: weight, Type: torch.float32, Device: cuda:0\n",
      "Layer: model.layers.17.mlp.gate_proj, Parameter: weight, Type: torch.float32, Device: cuda:0\n",
      "Layer: model.layers.17.mlp.up_proj, Parameter: weight, Type: torch.float32, Device: cuda:0\n",
      "Layer: model.layers.17.mlp.down_proj, Parameter: weight, Type: torch.float32, Device: cuda:0\n",
      "Layer: model.layers.17.input_layernorm, Parameter: weight, Type: torch.float32, Device: cuda:0\n",
      "Layer: model.layers.17.post_attention_layernorm, Parameter: weight, Type: torch.float32, Device: cuda:0\n",
      "Layer: model.layers.18.self_attn.q_proj, Parameter: weight, Type: torch.float32, Device: cuda:0\n",
      "Layer: model.layers.18.self_attn.k_proj, Parameter: weight, Type: torch.float32, Device: cuda:0\n",
      "Layer: model.layers.18.self_attn.v_proj, Parameter: weight, Type: torch.float32, Device: cuda:0\n",
      "Layer: model.layers.18.self_attn.o_proj, Parameter: weight, Type: torch.float32, Device: cuda:0\n",
      "Layer: model.layers.18.mlp.gate_proj, Parameter: weight, Type: torch.float32, Device: cuda:0\n",
      "Layer: model.layers.18.mlp.up_proj, Parameter: weight, Type: torch.float32, Device: cuda:0\n",
      "Layer: model.layers.18.mlp.down_proj, Parameter: weight, Type: torch.float32, Device: cuda:0\n",
      "Layer: model.layers.18.input_layernorm, Parameter: weight, Type: torch.float32, Device: cuda:0\n",
      "Layer: model.layers.18.post_attention_layernorm, Parameter: weight, Type: torch.float32, Device: cuda:0\n",
      "Layer: model.layers.19.self_attn.q_proj, Parameter: weight, Type: torch.float32, Device: cuda:0\n",
      "Layer: model.layers.19.self_attn.k_proj, Parameter: weight, Type: torch.float32, Device: cuda:0\n",
      "Layer: model.layers.19.self_attn.v_proj, Parameter: weight, Type: torch.float32, Device: cuda:0\n",
      "Layer: model.layers.19.self_attn.o_proj, Parameter: weight, Type: torch.float32, Device: cuda:0\n",
      "Layer: model.layers.19.mlp.gate_proj, Parameter: weight, Type: torch.float32, Device: cuda:0\n",
      "Layer: model.layers.19.mlp.up_proj, Parameter: weight, Type: torch.float32, Device: cuda:0\n",
      "Layer: model.layers.19.mlp.down_proj, Parameter: weight, Type: torch.float32, Device: cuda:0\n",
      "Layer: model.layers.19.input_layernorm, Parameter: weight, Type: torch.float32, Device: cuda:0\n",
      "Layer: model.layers.19.post_attention_layernorm, Parameter: weight, Type: torch.float32, Device: cuda:0\n",
      "Layer: model.layers.20.self_attn.q_proj, Parameter: weight, Type: torch.float32, Device: cuda:1\n",
      "Layer: model.layers.20.self_attn.k_proj, Parameter: weight, Type: torch.float32, Device: cuda:1\n",
      "Layer: model.layers.20.self_attn.v_proj, Parameter: weight, Type: torch.float32, Device: cuda:1\n",
      "Layer: model.layers.20.self_attn.o_proj, Parameter: weight, Type: torch.float32, Device: cuda:1\n",
      "Layer: model.layers.20.mlp.gate_proj, Parameter: weight, Type: torch.float32, Device: cuda:1\n",
      "Layer: model.layers.20.mlp.up_proj, Parameter: weight, Type: torch.float32, Device: cuda:1\n",
      "Layer: model.layers.20.mlp.down_proj, Parameter: weight, Type: torch.float32, Device: cuda:1\n",
      "Layer: model.layers.20.input_layernorm, Parameter: weight, Type: torch.float32, Device: cuda:1\n",
      "Layer: model.layers.20.post_attention_layernorm, Parameter: weight, Type: torch.float32, Device: cuda:1\n",
      "Layer: model.layers.21.self_attn.q_proj, Parameter: weight, Type: torch.float32, Device: cuda:1\n",
      "Layer: model.layers.21.self_attn.k_proj, Parameter: weight, Type: torch.float32, Device: cuda:1\n",
      "Layer: model.layers.21.self_attn.v_proj, Parameter: weight, Type: torch.float32, Device: cuda:1\n",
      "Layer: model.layers.21.self_attn.o_proj, Parameter: weight, Type: torch.float32, Device: cuda:1\n",
      "Layer: model.layers.21.mlp.gate_proj, Parameter: weight, Type: torch.float32, Device: cuda:1\n",
      "Layer: model.layers.21.mlp.up_proj, Parameter: weight, Type: torch.float32, Device: cuda:1\n",
      "Layer: model.layers.21.mlp.down_proj, Parameter: weight, Type: torch.float32, Device: cuda:1\n",
      "Layer: model.layers.21.input_layernorm, Parameter: weight, Type: torch.float32, Device: cuda:1\n",
      "Layer: model.layers.21.post_attention_layernorm, Parameter: weight, Type: torch.float32, Device: cuda:1\n",
      "Layer: model.layers.22.self_attn.q_proj, Parameter: weight, Type: torch.float32, Device: cuda:1\n",
      "Layer: model.layers.22.self_attn.k_proj, Parameter: weight, Type: torch.float32, Device: cuda:1\n",
      "Layer: model.layers.22.self_attn.v_proj, Parameter: weight, Type: torch.float32, Device: cuda:1\n",
      "Layer: model.layers.22.self_attn.o_proj, Parameter: weight, Type: torch.float32, Device: cuda:1\n",
      "Layer: model.layers.22.mlp.gate_proj, Parameter: weight, Type: torch.float32, Device: cuda:1\n",
      "Layer: model.layers.22.mlp.up_proj, Parameter: weight, Type: torch.float32, Device: cuda:1\n",
      "Layer: model.layers.22.mlp.down_proj, Parameter: weight, Type: torch.float32, Device: cuda:1\n",
      "Layer: model.layers.22.input_layernorm, Parameter: weight, Type: torch.float32, Device: cuda:1\n",
      "Layer: model.layers.22.post_attention_layernorm, Parameter: weight, Type: torch.float32, Device: cuda:1\n",
      "Layer: model.layers.23.self_attn.q_proj, Parameter: weight, Type: torch.float32, Device: cuda:1\n",
      "Layer: model.layers.23.self_attn.k_proj, Parameter: weight, Type: torch.float32, Device: cuda:1\n",
      "Layer: model.layers.23.self_attn.v_proj, Parameter: weight, Type: torch.float32, Device: cuda:1\n",
      "Layer: model.layers.23.self_attn.o_proj, Parameter: weight, Type: torch.float32, Device: cuda:1\n",
      "Layer: model.layers.23.mlp.gate_proj, Parameter: weight, Type: torch.float32, Device: cuda:1\n",
      "Layer: model.layers.23.mlp.up_proj, Parameter: weight, Type: torch.float32, Device: cuda:1\n",
      "Layer: model.layers.23.mlp.down_proj, Parameter: weight, Type: torch.float32, Device: cuda:1\n",
      "Layer: model.layers.23.input_layernorm, Parameter: weight, Type: torch.float32, Device: cuda:1\n",
      "Layer: model.layers.23.post_attention_layernorm, Parameter: weight, Type: torch.float32, Device: cuda:1\n",
      "Layer: model.layers.24.self_attn.q_proj, Parameter: weight, Type: torch.float32, Device: cuda:1\n",
      "Layer: model.layers.24.self_attn.k_proj, Parameter: weight, Type: torch.float32, Device: cuda:1\n",
      "Layer: model.layers.24.self_attn.v_proj, Parameter: weight, Type: torch.float32, Device: cuda:1\n",
      "Layer: model.layers.24.self_attn.o_proj, Parameter: weight, Type: torch.float32, Device: cuda:1\n",
      "Layer: model.layers.24.mlp.gate_proj, Parameter: weight, Type: torch.float32, Device: cuda:1\n",
      "Layer: model.layers.24.mlp.up_proj, Parameter: weight, Type: torch.float32, Device: cuda:1\n",
      "Layer: model.layers.24.mlp.down_proj, Parameter: weight, Type: torch.float32, Device: cuda:1\n",
      "Layer: model.layers.24.input_layernorm, Parameter: weight, Type: torch.float32, Device: cuda:1\n",
      "Layer: model.layers.24.post_attention_layernorm, Parameter: weight, Type: torch.float32, Device: cuda:1\n",
      "Layer: model.layers.25.self_attn.q_proj, Parameter: weight, Type: torch.float32, Device: cuda:1\n",
      "Layer: model.layers.25.self_attn.k_proj, Parameter: weight, Type: torch.float32, Device: cuda:1\n",
      "Layer: model.layers.25.self_attn.v_proj, Parameter: weight, Type: torch.float32, Device: cuda:1\n",
      "Layer: model.layers.25.self_attn.o_proj, Parameter: weight, Type: torch.float32, Device: cuda:1\n",
      "Layer: model.layers.25.mlp.gate_proj, Parameter: weight, Type: torch.float32, Device: cuda:1\n",
      "Layer: model.layers.25.mlp.up_proj, Parameter: weight, Type: torch.float32, Device: cuda:1\n",
      "Layer: model.layers.25.mlp.down_proj, Parameter: weight, Type: torch.float32, Device: cuda:1\n",
      "Layer: model.layers.25.input_layernorm, Parameter: weight, Type: torch.float32, Device: cuda:1\n",
      "Layer: model.layers.25.post_attention_layernorm, Parameter: weight, Type: torch.float32, Device: cuda:1\n",
      "Layer: model.layers.26.self_attn.q_proj, Parameter: weight, Type: torch.float32, Device: cuda:1\n",
      "Layer: model.layers.26.self_attn.k_proj, Parameter: weight, Type: torch.float32, Device: cuda:1\n",
      "Layer: model.layers.26.self_attn.v_proj, Parameter: weight, Type: torch.float32, Device: cuda:1\n",
      "Layer: model.layers.26.self_attn.o_proj, Parameter: weight, Type: torch.float32, Device: cuda:1\n",
      "Layer: model.layers.26.mlp.gate_proj, Parameter: weight, Type: torch.float32, Device: cuda:1\n",
      "Layer: model.layers.26.mlp.up_proj, Parameter: weight, Type: torch.float32, Device: cuda:1\n",
      "Layer: model.layers.26.mlp.down_proj, Parameter: weight, Type: torch.float32, Device: cuda:1\n",
      "Layer: model.layers.26.input_layernorm, Parameter: weight, Type: torch.float32, Device: cuda:1\n",
      "Layer: model.layers.26.post_attention_layernorm, Parameter: weight, Type: torch.float32, Device: cuda:1\n",
      "Layer: model.layers.27.self_attn.q_proj, Parameter: weight, Type: torch.float32, Device: cuda:1\n",
      "Layer: model.layers.27.self_attn.k_proj, Parameter: weight, Type: torch.float32, Device: cuda:1\n",
      "Layer: model.layers.27.self_attn.v_proj, Parameter: weight, Type: torch.float32, Device: cuda:1\n",
      "Layer: model.layers.27.self_attn.o_proj, Parameter: weight, Type: torch.float32, Device: cuda:1\n",
      "Layer: model.layers.27.mlp.gate_proj, Parameter: weight, Type: torch.float32, Device: cuda:1\n",
      "Layer: model.layers.27.mlp.up_proj, Parameter: weight, Type: torch.float32, Device: cuda:1\n",
      "Layer: model.layers.27.mlp.down_proj, Parameter: weight, Type: torch.float32, Device: cuda:1\n",
      "Layer: model.layers.27.input_layernorm, Parameter: weight, Type: torch.float32, Device: cuda:1\n",
      "Layer: model.layers.27.post_attention_layernorm, Parameter: weight, Type: torch.float32, Device: cuda:1\n",
      "Layer: model.layers.28.self_attn.q_proj, Parameter: weight, Type: torch.float32, Device: cuda:1\n",
      "Layer: model.layers.28.self_attn.k_proj, Parameter: weight, Type: torch.float32, Device: cuda:1\n",
      "Layer: model.layers.28.self_attn.v_proj, Parameter: weight, Type: torch.float32, Device: cuda:1\n",
      "Layer: model.layers.28.self_attn.o_proj, Parameter: weight, Type: torch.float32, Device: cuda:1\n",
      "Layer: model.layers.28.mlp.gate_proj, Parameter: weight, Type: torch.float32, Device: cuda:1\n",
      "Layer: model.layers.28.mlp.up_proj, Parameter: weight, Type: torch.float32, Device: cuda:1\n",
      "Layer: model.layers.28.mlp.down_proj, Parameter: weight, Type: torch.float32, Device: cuda:1\n",
      "Layer: model.layers.28.input_layernorm, Parameter: weight, Type: torch.float32, Device: cuda:1\n",
      "Layer: model.layers.28.post_attention_layernorm, Parameter: weight, Type: torch.float32, Device: cuda:1\n",
      "Layer: model.layers.29.self_attn.q_proj, Parameter: weight, Type: torch.float32, Device: cuda:1\n",
      "Layer: model.layers.29.self_attn.k_proj, Parameter: weight, Type: torch.float32, Device: cuda:1\n",
      "Layer: model.layers.29.self_attn.v_proj, Parameter: weight, Type: torch.float32, Device: cuda:1\n",
      "Layer: model.layers.29.self_attn.o_proj, Parameter: weight, Type: torch.float32, Device: cuda:1\n",
      "Layer: model.layers.29.mlp.gate_proj, Parameter: weight, Type: torch.float32, Device: cuda:1\n",
      "Layer: model.layers.29.mlp.up_proj, Parameter: weight, Type: torch.float32, Device: cuda:1\n",
      "Layer: model.layers.29.mlp.down_proj, Parameter: weight, Type: torch.float32, Device: cuda:1\n",
      "Layer: model.layers.29.input_layernorm, Parameter: weight, Type: torch.float32, Device: cuda:1\n",
      "Layer: model.layers.29.post_attention_layernorm, Parameter: weight, Type: torch.float32, Device: cuda:1\n",
      "Layer: model.layers.30.self_attn.q_proj, Parameter: weight, Type: torch.float32, Device: cuda:1\n",
      "Layer: model.layers.30.self_attn.k_proj, Parameter: weight, Type: torch.float32, Device: cuda:1\n",
      "Layer: model.layers.30.self_attn.v_proj, Parameter: weight, Type: torch.float32, Device: cuda:1\n",
      "Layer: model.layers.30.self_attn.o_proj, Parameter: weight, Type: torch.float32, Device: cuda:1\n",
      "Layer: model.layers.30.mlp.gate_proj, Parameter: weight, Type: torch.float32, Device: cuda:1\n",
      "Layer: model.layers.30.mlp.up_proj, Parameter: weight, Type: torch.float32, Device: cuda:1\n",
      "Layer: model.layers.30.mlp.down_proj, Parameter: weight, Type: torch.float32, Device: cuda:1\n",
      "Layer: model.layers.30.input_layernorm, Parameter: weight, Type: torch.float32, Device: cuda:1\n",
      "Layer: model.layers.30.post_attention_layernorm, Parameter: weight, Type: torch.float32, Device: cuda:1\n",
      "Layer: model.layers.31.self_attn.q_proj, Parameter: weight, Type: torch.float32, Device: cuda:1\n",
      "Layer: model.layers.31.self_attn.k_proj, Parameter: weight, Type: torch.float32, Device: cuda:1\n",
      "Layer: model.layers.31.self_attn.v_proj, Parameter: weight, Type: torch.float32, Device: cuda:1\n",
      "Layer: model.layers.31.self_attn.o_proj, Parameter: weight, Type: torch.float32, Device: cuda:1\n",
      "Layer: model.layers.31.mlp.gate_proj, Parameter: weight, Type: torch.float32, Device: cuda:1\n",
      "Layer: model.layers.31.mlp.up_proj, Parameter: weight, Type: torch.float32, Device: cuda:1\n",
      "Layer: model.layers.31.mlp.down_proj, Parameter: weight, Type: torch.float32, Device: cuda:1\n",
      "Layer: model.layers.31.input_layernorm, Parameter: weight, Type: torch.float32, Device: cuda:1\n",
      "Layer: model.layers.31.post_attention_layernorm, Parameter: weight, Type: torch.float32, Device: cuda:1\n",
      "Layer: model.layers.32.self_attn.q_proj, Parameter: weight, Type: torch.float32, Device: cuda:1\n",
      "Layer: model.layers.32.self_attn.k_proj, Parameter: weight, Type: torch.float32, Device: cuda:1\n",
      "Layer: model.layers.32.self_attn.v_proj, Parameter: weight, Type: torch.float32, Device: cuda:1\n",
      "Layer: model.layers.32.self_attn.o_proj, Parameter: weight, Type: torch.float32, Device: cuda:1\n",
      "Layer: model.layers.32.mlp.gate_proj, Parameter: weight, Type: torch.float32, Device: cuda:1\n",
      "Layer: model.layers.32.mlp.up_proj, Parameter: weight, Type: torch.float32, Device: cuda:1\n",
      "Layer: model.layers.32.mlp.down_proj, Parameter: weight, Type: torch.float32, Device: cuda:1\n",
      "Layer: model.layers.32.input_layernorm, Parameter: weight, Type: torch.float32, Device: cuda:1\n",
      "Layer: model.layers.32.post_attention_layernorm, Parameter: weight, Type: torch.float32, Device: cuda:1\n",
      "Layer: model.layers.33.self_attn.q_proj, Parameter: weight, Type: torch.float32, Device: cuda:1\n",
      "Layer: model.layers.33.self_attn.k_proj, Parameter: weight, Type: torch.float32, Device: cuda:1\n",
      "Layer: model.layers.33.self_attn.v_proj, Parameter: weight, Type: torch.float32, Device: cuda:1\n",
      "Layer: model.layers.33.self_attn.o_proj, Parameter: weight, Type: torch.float32, Device: cuda:1\n",
      "Layer: model.layers.33.mlp.gate_proj, Parameter: weight, Type: torch.float32, Device: cuda:1\n",
      "Layer: model.layers.33.mlp.up_proj, Parameter: weight, Type: torch.float32, Device: cuda:1\n",
      "Layer: model.layers.33.mlp.down_proj, Parameter: weight, Type: torch.float32, Device: cuda:1\n",
      "Layer: model.layers.33.input_layernorm, Parameter: weight, Type: torch.float32, Device: cuda:1\n",
      "Layer: model.layers.33.post_attention_layernorm, Parameter: weight, Type: torch.float32, Device: cuda:1\n",
      "Layer: model.layers.34.self_attn.q_proj, Parameter: weight, Type: torch.float32, Device: cuda:1\n",
      "Layer: model.layers.34.self_attn.k_proj, Parameter: weight, Type: torch.float32, Device: cuda:1\n",
      "Layer: model.layers.34.self_attn.v_proj, Parameter: weight, Type: torch.float32, Device: cuda:1\n",
      "Layer: model.layers.34.self_attn.o_proj, Parameter: weight, Type: torch.float32, Device: cuda:1\n",
      "Layer: model.layers.34.mlp.gate_proj, Parameter: weight, Type: torch.float32, Device: cuda:1\n",
      "Layer: model.layers.34.mlp.up_proj, Parameter: weight, Type: torch.float32, Device: cuda:1\n",
      "Layer: model.layers.34.mlp.down_proj, Parameter: weight, Type: torch.float32, Device: cuda:1\n",
      "Layer: model.layers.34.input_layernorm, Parameter: weight, Type: torch.float32, Device: cuda:1\n",
      "Layer: model.layers.34.post_attention_layernorm, Parameter: weight, Type: torch.float32, Device: cuda:1\n",
      "Layer: model.layers.35.self_attn.q_proj, Parameter: weight, Type: torch.float32, Device: cuda:1\n",
      "Layer: model.layers.35.self_attn.k_proj, Parameter: weight, Type: torch.float32, Device: cuda:1\n",
      "Layer: model.layers.35.self_attn.v_proj, Parameter: weight, Type: torch.float32, Device: cuda:1\n",
      "Layer: model.layers.35.self_attn.o_proj, Parameter: weight, Type: torch.float32, Device: cuda:1\n",
      "Layer: model.layers.35.mlp.gate_proj, Parameter: weight, Type: torch.float32, Device: cuda:1\n",
      "Layer: model.layers.35.mlp.up_proj, Parameter: weight, Type: torch.float32, Device: cuda:1\n",
      "Layer: model.layers.35.mlp.down_proj, Parameter: weight, Type: torch.float32, Device: cuda:1\n",
      "Layer: model.layers.35.input_layernorm, Parameter: weight, Type: torch.float32, Device: cuda:1\n",
      "Layer: model.layers.35.post_attention_layernorm, Parameter: weight, Type: torch.float32, Device: cuda:1\n",
      "Layer: model.layers.36.self_attn.q_proj, Parameter: weight, Type: torch.float32, Device: cuda:1\n",
      "Layer: model.layers.36.self_attn.k_proj, Parameter: weight, Type: torch.float32, Device: cuda:1\n",
      "Layer: model.layers.36.self_attn.v_proj, Parameter: weight, Type: torch.float32, Device: cuda:1\n",
      "Layer: model.layers.36.self_attn.o_proj, Parameter: weight, Type: torch.float32, Device: cuda:1\n",
      "Layer: model.layers.36.mlp.gate_proj, Parameter: weight, Type: torch.float32, Device: cuda:1\n",
      "Layer: model.layers.36.mlp.up_proj, Parameter: weight, Type: torch.float32, Device: cuda:1\n",
      "Layer: model.layers.36.mlp.down_proj, Parameter: weight, Type: torch.float32, Device: cuda:1\n",
      "Layer: model.layers.36.input_layernorm, Parameter: weight, Type: torch.float32, Device: cuda:1\n",
      "Layer: model.layers.36.post_attention_layernorm, Parameter: weight, Type: torch.float32, Device: cuda:1\n",
      "Layer: model.layers.37.self_attn.q_proj, Parameter: weight, Type: torch.float32, Device: cuda:1\n",
      "Layer: model.layers.37.self_attn.k_proj, Parameter: weight, Type: torch.float32, Device: cuda:1\n",
      "Layer: model.layers.37.self_attn.v_proj, Parameter: weight, Type: torch.float32, Device: cuda:1\n",
      "Layer: model.layers.37.self_attn.o_proj, Parameter: weight, Type: torch.float32, Device: cuda:1\n",
      "Layer: model.layers.37.mlp.gate_proj, Parameter: weight, Type: torch.float32, Device: cuda:1\n",
      "Layer: model.layers.37.mlp.up_proj, Parameter: weight, Type: torch.float32, Device: cuda:1\n",
      "Layer: model.layers.37.mlp.down_proj, Parameter: weight, Type: torch.float32, Device: cuda:1\n",
      "Layer: model.layers.37.input_layernorm, Parameter: weight, Type: torch.float32, Device: cuda:1\n",
      "Layer: model.layers.37.post_attention_layernorm, Parameter: weight, Type: torch.float32, Device: cuda:1\n",
      "Layer: model.layers.38.self_attn.q_proj, Parameter: weight, Type: torch.float32, Device: cuda:1\n",
      "Layer: model.layers.38.self_attn.k_proj, Parameter: weight, Type: torch.float32, Device: cuda:1\n",
      "Layer: model.layers.38.self_attn.v_proj, Parameter: weight, Type: torch.float32, Device: cuda:1\n",
      "Layer: model.layers.38.self_attn.o_proj, Parameter: weight, Type: torch.float32, Device: cuda:1\n",
      "Layer: model.layers.38.mlp.gate_proj, Parameter: weight, Type: torch.float32, Device: cuda:1\n",
      "Layer: model.layers.38.mlp.up_proj, Parameter: weight, Type: torch.float32, Device: cuda:1\n",
      "Layer: model.layers.38.mlp.down_proj, Parameter: weight, Type: torch.float32, Device: cuda:1\n",
      "Layer: model.layers.38.input_layernorm, Parameter: weight, Type: torch.float32, Device: cuda:1\n",
      "Layer: model.layers.38.post_attention_layernorm, Parameter: weight, Type: torch.float32, Device: cuda:1\n",
      "Layer: model.layers.39.self_attn.q_proj, Parameter: weight, Type: torch.float32, Device: cuda:1\n",
      "Layer: model.layers.39.self_attn.k_proj, Parameter: weight, Type: torch.float32, Device: cuda:1\n",
      "Layer: model.layers.39.self_attn.v_proj, Parameter: weight, Type: torch.float32, Device: cuda:1\n",
      "Layer: model.layers.39.self_attn.o_proj, Parameter: weight, Type: torch.float32, Device: cuda:1\n",
      "Layer: model.layers.39.mlp.gate_proj, Parameter: weight, Type: torch.float32, Device: cuda:1\n",
      "Layer: model.layers.39.mlp.up_proj, Parameter: weight, Type: torch.float32, Device: cuda:1\n",
      "Layer: model.layers.39.mlp.down_proj, Parameter: weight, Type: torch.float32, Device: cuda:1\n",
      "Layer: model.layers.39.input_layernorm, Parameter: weight, Type: torch.float32, Device: cuda:1\n",
      "Layer: model.layers.39.post_attention_layernorm, Parameter: weight, Type: torch.float32, Device: cuda:1\n",
      "Layer: model.norm, Parameter: weight, Type: torch.float32, Device: cuda:1\n",
      "Layer: lm_head, Parameter: weight, Type: torch.float32, Device: cuda:1\n"
     ]
    }
   ],
   "source": [
    "\n",
    "## Print out the layers, data types, and devices\n",
    "\n",
    "for name, module in model.named_modules():\n",
    "    for param_name, param in module.named_parameters(recurse=False):\n",
    "        print(f\"Layer: {name}, Parameter: {param_name}, Type: {param.dtype}, Device: {param.device}\")"
   ]
  },
  {
   "cell_type": "code",
   "execution_count": 18,
   "metadata": {},
   "outputs": [
    {
     "name": "stdout",
     "output_type": "stream",
     "text": [
      "\n",
      "How many stars in the space? This is a very interesting question.\n",
      "There are about \n"
     ]
    }
   ],
   "source": [
    "\n",
    "tokenizer = AutoTokenizer.from_pretrained(model_name)\n",
    "tokenizer.pad_token = tokenizer.eos_token\n",
    "\n",
    "prompt = \"How many stars in the space?\"\n",
    "\n",
    "model_inputs = tokenizer([prompt], return_tensors=\"pt\").to(device) \n",
    "input_length = model_inputs.input_ids.shape[1]\n",
    "\n",
    "generated_ids = model.generate(**model_inputs, max_new_tokens=20)\n",
    "print(tokenizer.batch_decode(generated_ids[:, input_length:], skip_special_tokens=True)[0])"
   ]
  },
  {
   "cell_type": "code",
   "execution_count": null,
   "metadata": {},
   "outputs": [],
   "source": []
  },
  {
   "cell_type": "code",
   "execution_count": null,
   "metadata": {},
   "outputs": [],
   "source": []
  },
  {
   "cell_type": "code",
   "execution_count": null,
   "metadata": {},
   "outputs": [],
   "source": []
  },
  {
   "cell_type": "code",
   "execution_count": null,
   "metadata": {},
   "outputs": [],
   "source": []
  },
  {
   "cell_type": "code",
   "execution_count": null,
   "metadata": {},
   "outputs": [],
   "source": []
  },
  {
   "cell_type": "code",
   "execution_count": null,
   "metadata": {},
   "outputs": [],
   "source": []
  },
  {
   "cell_type": "code",
   "execution_count": null,
   "metadata": {},
   "outputs": [],
   "source": []
  },
  {
   "cell_type": "code",
   "execution_count": null,
   "metadata": {},
   "outputs": [],
   "source": []
  },
  {
   "cell_type": "markdown",
   "metadata": {},
   "source": [
    "## batch inference"
   ]
  },
  {
   "cell_type": "code",
   "execution_count": 19,
   "metadata": {},
   "outputs": [],
   "source": [
    "prompts = ['How do you like my new hair cut?',\n",
    "           'Do you like Taylor Swift?'\n",
    "          ]"
   ]
  },
  {
   "cell_type": "code",
   "execution_count": 20,
   "metadata": {},
   "outputs": [
    {
     "name": "stderr",
     "output_type": "stream",
     "text": [
      "A decoder-only architecture is being used, but right-padding was detected! For correct generation results, please set `padding_side='left'` when initializing the tokenizer.\n"
     ]
    },
    {
     "data": {
      "text/plain": [
       "['How do you like my new hair cut?\\nI have had the same hair cut for a long time. I don’t like going to the hair salon. I have been cutting my',\n",
       " 'Do you like Taylor Swift? the pop star from United States. We have added the Taylor Swift’s net worth, biography, age, height, weight, etc what you']"
      ]
     },
     "execution_count": 20,
     "metadata": {},
     "output_type": "execute_result"
    }
   ],
   "source": [
    "\n",
    "inputs = tokenizer(prompts, padding=True,\n",
    "                   truncation=True,\n",
    "                   max_length=30, \n",
    "                   return_tensors=\"pt\"\n",
    "                  ).to(device)\n",
    "\n",
    "# Generate outputs\n",
    "generation_kwargs = {\"max_length\": 40, \n",
    "                     \"top_k\": 0.0, \n",
    "                     \"top_p\": 1.0, \n",
    "                     \"do_sample\": True, \n",
    "                     \"pad_token_id\": tokenizer.eos_token_id\n",
    "                    }\n",
    "\n",
    "outputs = model.generate(**inputs, **generation_kwargs)\n",
    "    \n",
    "# Decode the outputs\n",
    "responds = tokenizer.batch_decode(outputs, skip_special_tokens=True)\n",
    "\n",
    "\n",
    "responds"
   ]
  },
  {
   "cell_type": "markdown",
   "metadata": {},
   "source": [
    "## Get rewards"
   ]
  },
  {
   "cell_type": "code",
   "execution_count": 15,
   "metadata": {},
   "outputs": [],
   "source": [
    "# Use a bert model as the reward function\n",
    "from transformers import pipeline\n",
    "\n",
    "classifier = pipeline(\"text-classification\", model=\"finiteautomata/bertweet-base-sentiment-analysis\")"
   ]
  },
  {
   "cell_type": "code",
   "execution_count": 16,
   "metadata": {},
   "outputs": [
    {
     "data": {
      "text/plain": [
       "[{'label': 'POS', 'score': 0.9766294360160828},\n",
       " {'label': 'POS', 'score': 0.9696700572967529}]"
      ]
     },
     "execution_count": 16,
     "metadata": {},
     "output_type": "execute_result"
    }
   ],
   "source": [
    "results = classifier(responds)\n",
    "results"
   ]
  },
  {
   "cell_type": "code",
   "execution_count": 17,
   "metadata": {},
   "outputs": [
    {
     "data": {
      "text/plain": [
       "[0.9766294360160828, 0.9696700572967529]"
      ]
     },
     "execution_count": 17,
     "metadata": {},
     "output_type": "execute_result"
    }
   ],
   "source": [
    "rewards = []\n",
    "for result in results:\n",
    "    if result['label']=='POS':\n",
    "        reward = result['score']\n",
    "    else: reward = -result['score']\n",
    "    rewards.append(reward)\n",
    "\n",
    "rewards"
   ]
  },
  {
   "cell_type": "markdown",
   "metadata": {},
   "source": [
    "## Prepare training tensors: inputs, outputs and rewards "
   ]
  },
  {
   "cell_type": "code",
   "execution_count": 18,
   "metadata": {},
   "outputs": [],
   "source": [
    "input_tensors = tokenizer(prompts, padding=True, truncation=True,\\\n",
    "                   max_length=30, return_tensors=\"pt\")['input_ids'].to(device)\n",
    "input_tensors = []\n",
    "for prompt in prompts:\n",
    "    input_ = tokenizer(prompt, padding=True, truncation=True,\\\n",
    "                   max_length=30, return_tensors=\"pt\")['input_ids']\n",
    "    input_tensors.append(input_.squeeze().to(device))"
   ]
  },
  {
   "cell_type": "code",
   "execution_count": 19,
   "metadata": {},
   "outputs": [
    {
     "data": {
      "text/plain": [
       "[tensor([    1,  1128,   437,   366,   763,   590,   716, 11315,  5700, 29973],\n",
       "        device='cuda:0'),\n",
       " tensor([    1,  1938,   366,   763, 12537, 14156, 29973], device='cuda:0')]"
      ]
     },
     "execution_count": 19,
     "metadata": {},
     "output_type": "execute_result"
    }
   ],
   "source": [
    "input_tensors "
   ]
  },
  {
   "cell_type": "code",
   "execution_count": 20,
   "metadata": {},
   "outputs": [
    {
     "data": {
      "text/plain": [
       "[tensor([    1,  1128,   437,   366,   763,   590,   716, 11315,  5700, 29973,\n",
       "            13, 29902,   505,  1063,  7291,  1048,  2805,   263,   447,  2076,\n",
       "           329,   363,   263,  7303,   310, 11405, 29889,   306,   505,  1063,\n",
       "          2675,   304,   278,  1021,   447,   765, 29891,  1761,   363,   263],\n",
       "        device='cuda:0'),\n",
       " tensor([    1,  1938,   366,   763, 12537, 14156, 29973,  1938,   366,   763,\n",
       "           902,  2924,   310,  4696, 29973,    13, 29902,   763, 12537, 14156,\n",
       "         29892,   541,   306,  1348,   306,   763,   902,   901,   363,  1058,\n",
       "          1183,   338,  1135,   363,   902,  4696, 29889,    13, 29902,   763],\n",
       "        device='cuda:0')]"
      ]
     },
     "execution_count": 20,
     "metadata": {},
     "output_type": "execute_result"
    }
   ],
   "source": [
    "response_tensors = []\n",
    "for input_tensor in input_tensors:\n",
    "    response = ppo_trainer.generate(input_tensor, **generation_kwargs)\n",
    "    response_tensors.append(response.squeeze().to(device))\n",
    "response_tensors"
   ]
  },
  {
   "cell_type": "code",
   "execution_count": 21,
   "metadata": {},
   "outputs": [
    {
     "data": {
      "text/plain": [
       "[tensor(0.9766, device='cuda:0'), tensor(0.9697, device='cuda:0')]"
      ]
     },
     "execution_count": 21,
     "metadata": {},
     "output_type": "execute_result"
    }
   ],
   "source": [
    "reward_tensors = []\n",
    "for reward in rewards:\n",
    "    reward_tensors.append(torch.tensor(reward).to(device)) \n",
    "reward_tensors"
   ]
  },
  {
   "cell_type": "markdown",
   "metadata": {},
   "source": [
    "## Train"
   ]
  },
  {
   "cell_type": "code",
   "execution_count": 22,
   "metadata": {},
   "outputs": [
    {
     "name": "stderr",
     "output_type": "stream",
     "text": [
      "You're using a LlamaTokenizerFast tokenizer. Please note that with a fast tokenizer, using the `__call__` method is faster than using a method to encode the text followed by a call to the `pad` method to get a padded encoding.\n"
     ]
    }
   ],
   "source": [
    "total_epochs = 10\n",
    "policy_losses = []\n",
    "for epoch in range(total_epochs):\n",
    "    train_stats = ppo_trainer.step(input_tensors, response_tensors, reward_tensors)\n",
    "    policy_losses.append(train_stats['ppo/loss/policy']) "
   ]
  },
  {
   "cell_type": "code",
   "execution_count": 23,
   "metadata": {},
   "outputs": [
    {
     "data": {
      "text/plain": [
       "[-0.024157293140888214,\n",
       " -0.04058435186743736,\n",
       " -0.03417808562517166,\n",
       " -0.037214700132608414,\n",
       " -0.04161902889609337,\n",
       " -0.0419825054705143,\n",
       " -0.04132285714149475,\n",
       " -0.03598627820611,\n",
       " -0.03977344185113907,\n",
       " -0.044593438506126404]"
      ]
     },
     "execution_count": 23,
     "metadata": {},
     "output_type": "execute_result"
    }
   ],
   "source": [
    "policy_losses"
   ]
  },
  {
   "cell_type": "code",
   "execution_count": 24,
   "metadata": {},
   "outputs": [
    {
     "data": {
      "image/png": "[encoded data removed]",
      "text/plain": [
       "<Figure size 1000x600 with 1 Axes>"
      ]
     },
     "metadata": {},
     "output_type": "display_data"
    }
   ],
   "source": [
    "import matplotlib.pyplot as plt\n",
    "\n",
    "## Visualizes the policy loss over time (or iterations).e\n",
    "   \n",
    "plt.figure(figsize=(10, 6))\n",
    "plt.plot(policy_losses, label='Policy Loss')\n",
    "plt.xlabel('Iteration')\n",
    "plt.ylabel('Loss')\n",
    "plt.title('Policy Loss Over Time')\n",
    "plt.legend()\n",
    "plt.grid(True)\n",
    "plt.show()"
   ]
  },
  {
   "cell_type": "code",
   "execution_count": null,
   "metadata": {},
   "outputs": [],
   "source": []
  },
  {
   "cell_type": "code",
   "execution_count": null,
   "metadata": {},
   "outputs": [],
   "source": []
  }
 ],
 "metadata": {
  "kernelspec": {
   "display_name": "Python 3 (ipykernel)",
   "language": "python",
   "name": "python3"
  },
  "language_info": {
   "codemirror_mode": {
    "name": "ipython",
    "version": 3
   },
   "file_extension": ".py",
   "mimetype": "text/x-python",
   "name": "python",
   "nbconvert_exporter": "python",
   "pygments_lexer": "ipython3",
   "version": "3.10.13"
  },
  "toc": {
   "base_numbering": 1,
   "nav_menu": {},
   "number_sections": true,
   "sideBar": true,
   "skip_h1_title": false,
   "title_cell": "Table of Contents",
   "title_sidebar": "Contents",
   "toc_cell": false,
   "toc_position": {},
   "toc_section_display": true,
   "toc_window_display": false
  }
 },
 "nbformat": 4,
 "nbformat_minor": 4
}
